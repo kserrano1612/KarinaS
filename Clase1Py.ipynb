{
 "cells": [
  {
   "cell_type": "code",
   "execution_count": 3,
   "metadata": {},
   "outputs": [
    {
     "name": "stdout",
     "output_type": "stream",
     "text": [
      "Ingrese numero8\n",
      "Ingrese otro numero9\n",
      "17.0\n"
     ]
    }
   ],
   "source": [
    "numerouno = float(input(\"Ingrese numero\"))\n",
    "numerodos = float(input(\"Ingrese otro numero\"))\n",
    "suma = numerouno + numerodos\n",
    "print(suma)"
   ]
  },
  {
   "cell_type": "code",
   "execution_count": null,
   "metadata": {},
   "outputs": [],
   "source": [
    "while True:\n",
    "    try:\n",
    "        numerouno = float(input(\"Ingrese primer numero\")) \n",
    "        numerodos = float(input(\"Ingrese segundo numero\"))\n",
    "        numerotres = float(input(\"Ingrese tercer numero\"))\n",
    "        suma = numerouno + numerodos + numerotres\n",
    "        print(suma)\n",
    "        break\n",
    "    except ValueError:\n",
    "        print(\"Oops! Ingrese su numero\")"
   ]
  },
  {
   "cell_type": "code",
   "execution_count": 16,
   "metadata": {},
   "outputs": [
    {
     "name": "stdout",
     "output_type": "stream",
     "text": [
      "10\n"
     ]
    }
   ],
   "source": [
    "uno = int(10)\n",
    "dos = int(3)\n",
    "tres = int(2)\n",
    "cuatro = int(3)\n",
    "resta = (uno - dos - tres - cuatro)\n",
    "print(resta)"
   ]
  },
  {
   "cell_type": "code",
   "execution_count": null,
   "metadata": {},
   "outputs": [],
   "source": [
    "x = float(input())\n",
    "if x > 0 \n",
    "    print(es mayor)"
   ]
  },
  {
   "cell_type": "code",
   "execution_count": 30,
   "metadata": {},
   "outputs": [
    {
     "name": "stdout",
     "output_type": "stream",
     "text": [
      "Ingrese su nombre: Karina\n",
      "Ingrese su salario: 50\n",
      "Usted no debe pagar impuesto\n"
     ]
    }
   ],
   "source": [
    "nombre = input(\"Ingrese su nombre: \")\n",
    "salario = float(input(\"Ingrese su salario: \"))\n",
    "\n",
    "if salario > 200:\n",
    "    print(\"Usted debe pagar impuesto\")\n",
    "else:\n",
    "    print(\"Usted no debe pagar impuesto\")"
   ]
  },
  {
   "cell_type": "code",
   "execution_count": 38,
   "metadata": {},
   "outputs": [
    {
     "name": "stdout",
     "output_type": "stream",
     "text": [
      "Ingrese su nombre: Karina\n",
      "Ingrese su salario: 150\n",
      "Usted debe pagar 7.5\n"
     ]
    }
   ],
   "source": [
    "nombre = input(\"Ingrese su nombre: \")\n",
    "salario = float(input(\"Ingrese su salario: \"))\n",
    "\n",
    "if salario < 200:\n",
    "    print(\"Usted debe pagar\" , (salario * 0.05))\n",
    "elif salario < 400: \n",
    "    print(\"Usted debe pagar\" , (salario * 0.10))\n",
    "elif salario < 600: \n",
    "    print(\"Usted debe pagar\", (salario * 0.15))\n",
    "else:\n",
    "    print(\"Usted no debe pagar impuesto\")"
   ]
  }
 ],
 "metadata": {
  "kernelspec": {
   "display_name": "Python 3",
   "language": "python",
   "name": "python3"
  },
  "language_info": {
   "codemirror_mode": {
    "name": "ipython",
    "version": 3
   },
   "file_extension": ".py",
   "mimetype": "text/x-python",
   "name": "python",
   "nbconvert_exporter": "python",
   "pygments_lexer": "ipython3",
   "version": "3.5.2"
  }
 },
 "nbformat": 4,
 "nbformat_minor": 2
}
